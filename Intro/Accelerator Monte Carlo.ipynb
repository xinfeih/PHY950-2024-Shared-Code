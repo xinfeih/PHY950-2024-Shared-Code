{
 "cells": [
  {
   "cell_type": "code",
   "execution_count": 1,
   "id": "ef9ce3f0-6f86-47f6-8da0-9d848f35672b",
   "metadata": {},
   "outputs": [],
   "source": [
    "# A bit of setup\n",
    "%matplotlib inline\n",
    "import numpy as np\n",
    "import matplotlib.pyplot as plt"
   ]
  },
  {
   "cell_type": "markdown",
   "id": "e04dfec5-eb77-4b76-8c4b-0b49b314b733",
   "metadata": {},
   "source": [
    "# Let's explore the numpy random number generators\n",
    "\n",
    "We'll try out the numpy module to provide a range of random number generation options.  As you'll learn, the easiest distribution to produce is a uniform distribution over some range, typically [0,1).  This distribution can be easily modified mathematically to produce arbitrary random distributions.\n",
    "\n",
    "For now, let's just exercise numpy to create uniform and Gaussian distributions.  \n",
    "\n",
    "### numpy default random number generator (rng)\n",
    "Generate one random number over the range [0,1)\n",
    "```\n",
    "rng = np.random.default_rng()\n",
    "print(\"Random number: \", rng.random())\n",
    "```\n",
    "\n",
    "### generate an array of 5 integers uniformly over the range [0,10)\n",
    "```\n",
    "rng.integers(low=0,high=10,size=5)\n",
    "```\n",
    "\n",
    "### generate an array of 10 numbers according to a unit Gaussian distribution\n",
    "```\n",
    "rng.standard_normal(10)\n",
    "```"
   ]
  },
  {
   "cell_type": "code",
   "execution_count": 2,
   "id": "ab2a0c5d-fd26-49a2-991a-ff0de4df8d66",
   "metadata": {},
   "outputs": [
    {
     "name": "stdout",
     "output_type": "stream",
     "text": [
      "Random number:  0.5118082122627873 \n",
      "\n",
      "Five random numbers:  [5 8 3 0 6] \n",
      "\n",
      "Ten random numbers from a unit normal (Gaussian):\n",
      " [ 0.77613057  0.39238804 -1.41052066  1.00363589 -0.66706332  0.77259661\n",
      "  1.17134107 -0.76552961 -1.45113535 -0.23446944] \n",
      "\n"
     ]
    }
   ],
   "source": [
    "rng = np.random.default_rng()\n",
    "print(\"Random number: \", rng.random(),\"\\n\")\n",
    "\n",
    "array1 = rng.integers(low=0,high=10,size=5)\n",
    "print(\"Five random numbers: \",array1,\"\\n\")\n",
    "\n",
    "array2 = rng.standard_normal(10)\n",
    "print(\"Ten random numbers from a unit normal (Gaussian):\\n\",array2,\"\\n\")"
   ]
  },
  {
   "cell_type": "markdown",
   "id": "efff3a21-750d-4ec8-aaed-39ffb0e27eb0",
   "metadata": {},
   "source": [
    "# Now let's write some code to exercise functions of random variables\n",
    "\n",
    "### We will imagine that we are accelerating protons\n",
    "\n",
    "Thus, we'll simulate one proton at a time being accelerated through some naive, imaginaary accelerator chain.  We will analyze the 6-dimentional space they occupy at the end of the process.\n",
    "\n",
    "The vision will be that the protons are \"born\" with non-zero momentum at x=y=z=0.  We will then propagate them through space to an accelerator element, accelerate them along a programmable axis, then repeat the process.  \n",
    "\n",
    "We can inject noise into the accelerator, forcing the protons to acquire a random momentum change along each axis.  Thus, in the end they will have non-zero momentum in each direction and will therefore spread out in space away from their original flight axis.\n",
    "\n",
    "We will need some helper functions, which we can define in advance."
   ]
  },
  {
   "cell_type": "code",
   "execution_count": 3,
   "id": "85f893f7-5cf3-49e9-99ca-85a1ddf97a2c",
   "metadata": {},
   "outputs": [],
   "source": [
    "# these are protons!\n",
    "# why are we using these numbers??\n",
    "def mass():\n",
    "    return 938\n",
    "\n",
    "def mass_squared():\n",
    "    return 938*938\n",
    "\n",
    "def q():\n",
    "    return np.sqrt(4*np.pi*0.007297)\n",
    "\n",
    "def gamma(px,py,pz):\n",
    "    p2 = px*px + py*py + pz*pz\n",
    "    g = np.sqrt(1 + p2/mass_squared())\n",
    "    return g\n",
    "\n",
    "def beta(px,py,pz):\n",
    "    g = gamma(px,py,pz)\n",
    "    return np.sqrt(1-1/(g*g))\n",
    "\n",
    "def energy(px,py,pz):\n",
    "    return np.sqrt(mass_squared() + px*px + py*py + pz*pz)\n",
    "\n",
    "def velocity(p,g):\n",
    "    return p/g/mass()\n",
    "\n",
    "# This function will generate a random momentum change from a Gaussian distributions\n",
    "def addMomentumGaussianNoise(p, sigmaP):\n",
    "    if p < 5:\n",
    "        return 5*np.random.normal(0,sigmaP)    \n",
    "    else:\n",
    "        return p*np.random.normal(0,sigmaP)\n",
    "\n",
    "# This function will generate a random momentum change from a uniform distributions\n",
    "# Why choose this form?  What does it do?\n",
    "def addMomentumUniformNoise(p, sigmaP):\n",
    "    if p < 5:\n",
    "        return 5*sigmaP*(np.random.random()-0.5)\n",
    "    else:\n",
    "        return p*sigmaP*(np.random.random()-0.5)\n",
    "\n",
    "# Define some accelerator elements\n",
    "    # L in meters, E (effective electric field) in mega Volts\n",
    "    # momentum in MeV\n",
    "    # position in meters\n",
    "def accelerator_element(x,y,z,px, py, pz, sigma_px, sigma_py, sigma_pz, L, Ex,Ey,Ez):\n",
    "    # we are relativisitic, so we need this info!\n",
    "    g = gamma(px,py,pz)\n",
    "    b = beta(px,py,pz)\n",
    "    e = energy(px,py,pz)\n",
    "\n",
    "    # These variables set the axis of acceleration\n",
    "    phi = 0  #azimuthal acceleration angle\n",
    "    theta = 0  #longitudinal acceleration angle \n",
    "\n",
    "    # Propagate the protons over the length of the accelerator\n",
    "    # This ignores the fact that momentum is changing!  How would you fix that\n",
    "    _dz = L*np.cos(phi)\n",
    "    _dx = L*np.sin(phi)*np.cos(theta)\n",
    "    _dy = L*np.sin(phi)*np.sin(theta)\n",
    "\n",
    "    # increment the position\n",
    "    x += _dx\n",
    "    y += _dy\n",
    "    z += _dz\n",
    "    \n",
    "    # calculate velocities\n",
    "    vx = velocity(px,g)\n",
    "    vy = velocity(py,g)\n",
    "    vz = velocity(pz,g)\n",
    "\n",
    "    # Accelerate!\n",
    "    _vx = np.sqrt(vx*vx + 2*q()*Ex/mass()*_dx)\n",
    "    _vy = np.sqrt(vy*vy + 2*q()*Ey/mass()*_dy)\n",
    "    _vz = np.sqrt(vz*vz + 2*q()*Ez/mass()*_dz)\n",
    "\n",
    "    # Calculate new momenta\n",
    "    vv = _vx*_vx + _vy*_vy + _vz*_vz\n",
    "    _g = 1/np.sqrt(1 - vv)\n",
    "    px = _g*_vx*mass()\n",
    "    py = _g*_vy*mass()\n",
    "    pz = _g*_vz*mass()\n",
    "\n",
    "    # Add momentum noise\n",
    "    px += addMomentumGaussianNoise(px,sigma_px)\n",
    "    py += addMomentumUniformNoise(py,sigma_py)\n",
    "    pz += addMomentumGaussianNoise(pz,sigma_pz)\n",
    "    \n",
    "    return x,y,z,px,py,pz\n",
    "\n",
    "\n",
    "# propagate through space\n",
    "    # position in meters\n",
    "    # t in nanoseconds\n",
    "def propagate(x,y,z,px,py,pz,t):\n",
    "    g = gamma(px,py,pz)\n",
    "    x += velocity(px,g)*t\n",
    "    y += velocity(py,g)*t\n",
    "    z += velocity(pz,g)*t\n",
    "    return x, y, z\n",
    "\n",
    "# build a particle accelerator!\n",
    "def accelerate(x,y,z,px,py,pz):\n",
    "\n",
    "    # propagate in space for 100 nsec\n",
    "    x,y,z = propagate(x,y,z,px,py,pz, 100)\n",
    "    \n",
    "    # start with acceleration\n",
    "    x,y,z,px,py,pz = accelerator_element(x,y,z,px,py,pz, 0.2, 0.2, 0.01, 2, 0,0,10)\n",
    "\n",
    "    # propagate in space for 100 nsec\n",
    "    x,y,z = propagate(x,y,z,px,py,pz, 100)\n",
    "    \n",
    "    # second stage of acceleration\n",
    "    x,y,z,px,py,pz = accelerator_element(x,y,z,px,py,pz, 0.2, 0.2, 0.01, 2, 0,0,10)\n",
    "\n",
    "    # propagate in space for 100 nsec\n",
    "    x,y,z = propagate(x,y,z,px,py,pz, 100)\n",
    "    \n",
    "    return x,y,z,px,py,pz"
   ]
  },
  {
   "cell_type": "code",
   "execution_count": 4,
   "id": "4cd67d98-7e59-4c90-8833-666cf143975a",
   "metadata": {},
   "outputs": [
    {
     "data": {
      "text/plain": [
       "(-0.004674806772059892,\n",
       " 0.07119733567140912,\n",
       " 38.52255222824611,\n",
       " 0.7110313360914453,\n",
       " 0.21827581040841043,\n",
       " 159.44172767943465)"
      ]
     },
     "execution_count": 4,
     "metadata": {},
     "output_type": "execute_result"
    }
   ],
   "source": [
    "# one particle\n",
    "x,y,z = 0,0,0\n",
    "px,py,pz = 0, 0, 50\n",
    "accelerate(x,y,z,px,py,pz)"
   ]
  },
  {
   "cell_type": "code",
   "execution_count": 5,
   "id": "1073217d-0c73-4d7c-b5bf-7216fbf56ac0",
   "metadata": {},
   "outputs": [],
   "source": [
    "# many particles!\n",
    "Niter = 10000\n",
    "xx = np.zeros(Niter)\n",
    "yy = np.zeros(Niter)\n",
    "zz = np.zeros(Niter)\n",
    "ppx = np.zeros(Niter)\n",
    "ppy = np.zeros(Niter)\n",
    "ppz = np.zeros(Niter)\n",
    "for i in range(Niter):\n",
    "    x,y,z = 0,0,0\n",
    "    px,py,pz = 0, 0, 50\n",
    "    xx[i], yy[i], zz[i], ppx[i], ppy[i], ppz[i] = accelerate(x,y,z,px,py,pz)"
   ]
  },
  {
   "cell_type": "code",
   "execution_count": 6,
   "id": "6e9909bd-c66d-4393-9260-87dda65f0942",
   "metadata": {},
   "outputs": [
    {
     "data": {
      "image/png": "[encoded data removed]",
      "text/plain": [
       "<Figure size 640x480 with 1 Axes>"
      ]
     },
     "metadata": {},
     "output_type": "display_data"
    },
    {
     "data": {
      "image/png": "[encoded data removed]",
      "text/plain": [
       "<Figure size 640x480 with 1 Axes>"
      ]
     },
     "metadata": {},
     "output_type": "display_data"
    },
    {
     "data": {
      "image/png": "[encoded data removed]",
      "text/plain": [
       "<Figure size 640x480 with 1 Axes>"
      ]
     },
     "metadata": {},
     "output_type": "display_data"
    },
    {
     "data": {
      "image/png": "[encoded data removed]",
      "text/plain": [
       "<Figure size 640x480 with 1 Axes>"
      ]
     },
     "metadata": {},
     "output_type": "display_data"
    }
   ],
   "source": [
    "# let's illustrate what we got\n",
    "plt.scatter(xx,yy)\n",
    "plt.show()\n",
    "plt.hist(xx,bins=20)\n",
    "plt.show()\n",
    "plt.hist(yy,bins=20)\n",
    "plt.show()\n",
    "plt.hist(zz,bins=20)\n",
    "plt.show()"
   ]
  },
  {
   "cell_type": "markdown",
   "id": "d493291a-e884-423d-9b5a-ed88b3af9d2b",
   "metadata": {},
   "source": [
    "# Now let's analyze our distributions\n",
    "\n",
    "### We may want to know something about the moments of our distributions!\n",
    "The mean, variance, and standard deviations would be great to know.  So we'll calculate them.\n",
    "\n",
    "But as you can see, the distributions are asymmetric, so we should also calculate some higher moments to capture the nature of this asymmetry.\n",
    "\n",
    "### Moments\n",
    "\n",
    "mean: $E[x]$\n",
    "\n",
    "variance: $E[(x- \\mu)^2]$\n",
    "\n",
    "Skew: $E[(x- \\mu)^3] / \\sigma^3$\n",
    "\n",
    "Kurtosis: $E[(x- \\mu)^4] / \\sigma^4$"
   ]
  },
  {
   "cell_type": "code",
   "execution_count": 21,
   "id": "fafb7728-9032-4435-a4ad-2b49dc91d607",
   "metadata": {},
   "outputs": [],
   "source": [
    "import scipy as scipy\n",
    "\n",
    "# Calculate mean:\n",
    "def getMean(xx, doPrint=True):\n",
    "    mean = np.sum(xx)/np.size(xx)\n",
    "    if doPrint:\n",
    "        #print(\"Mean: \", mean, \" , \", np.mean(xx))\n",
    "        print(\"Mean: %.4f, %.4f\" % (mean, np.mean(xx)))\n",
    "    return mean\n",
    "\n",
    "# Calculate variance:\n",
    "def getVariance(xx, doPrint=True): \n",
    "    mean = getMean(xx, doPrint=False)\n",
    "    var = np.sum(xx*xx)/np.size(xx) - mean*mean\n",
    "    sigma = np.sqrt(var)\n",
    "    if doPrint:\n",
    "        #print(\"Variance: \", var, \" , \", np.var(xx))\n",
    "        print(\"Variance: %.4f, %.4f\" % (var, np.var(xx)))\n",
    "    return sigma\n",
    "    \n",
    "# Calculate skew\n",
    "def getSkew(xx):\n",
    "    sigma = getVariance(xx, doPrint=False)\n",
    "    mean = getMean(xx, doPrint=False)\n",
    "    skewX = np.power(xx - mean,3)\n",
    "    skew = np.sum(skewX)/np.size(xx)\n",
    "    skew = skew/np.power(sigma,3)\n",
    "    #print(\"Skew: \", skew, \" , \", scipy.stats.skew(xx))\n",
    "    print(\"Skew: %.4f, %.4f\" % (skew, scipy.stats.skew(xx)))\n",
    "\n",
    "# Calculate kurtosis\n",
    "def getKurtosis(xx):\n",
    "    sigma = getVariance(xx, doPrint=False)\n",
    "    mean = getMean(xx, doPrint=False)\n",
    "    kurtX = np.power(xx - mean,4)\n",
    "    kurt = np.sum(kurtX)/np.size(xx)\n",
    "    kurt = kurt/np.power(sigma,4)\n",
    "    #print(\"Kurtosis: \", kurt, \" , \", scipy.stats.kurtosis(xx, fisher=False))\n",
    "    print(\"Kurtosis: %.4f, %.4f\" % (kurt, scipy.stats.kurtosis(xx, fisher=False)))\n",
    "    "
   ]
  },
  {
   "cell_type": "code",
   "execution_count": 22,
   "id": "3d436924-febd-461a-88b3-208e106f36fe",
   "metadata": {},
   "outputs": [
    {
     "name": "stdout",
     "output_type": "stream",
     "text": [
      "Mean: 0.0850, 0.0850\n",
      "Mean: 0.0270, 0.0270\n",
      "Mean: 38.8024, 38.8024\n"
     ]
    },
    {
     "data": {
      "text/plain": [
       "38.80239815960472"
      ]
     },
     "execution_count": 22,
     "metadata": {},
     "output_type": "execute_result"
    }
   ],
   "source": [
    "getMean(xx)\n",
    "getMean(yy)\n",
    "getMean(zz)"
   ]
  },
  {
   "cell_type": "code",
   "execution_count": 23,
   "id": "3d94f6a9-2335-4acb-a889-52541d856d53",
   "metadata": {},
   "outputs": [
    {
     "name": "stdout",
     "output_type": "stream",
     "text": [
      "Variance: 0.0257, 0.0257\n",
      "Variance: 0.0021, 0.0021\n",
      "Variance: 0.0745, 0.0745\n"
     ]
    },
    {
     "data": {
      "text/plain": [
       "0.2730037621992423"
      ]
     },
     "execution_count": 23,
     "metadata": {},
     "output_type": "execute_result"
    }
   ],
   "source": [
    "getVariance(xx)\n",
    "getVariance(yy)\n",
    "getVariance(zz)"
   ]
  },
  {
   "cell_type": "code",
   "execution_count": 24,
   "id": "67edfffd-f23e-4a17-9aea-6068c4cb0a66",
   "metadata": {},
   "outputs": [
    {
     "name": "stdout",
     "output_type": "stream",
     "text": [
      "Skew: 0.7733, 0.7733\n",
      "Skew: 0.3564, 0.3564\n",
      "Skew: -0.0052, -0.0052\n"
     ]
    }
   ],
   "source": [
    "getSkew(xx)\n",
    "getSkew(yy)\n",
    "getSkew(zz)"
   ]
  },
  {
   "cell_type": "code",
   "execution_count": 25,
   "id": "294db4b4-50a6-4281-917e-83e14ca16a50",
   "metadata": {},
   "outputs": [
    {
     "name": "stdout",
     "output_type": "stream",
     "text": [
      "Kurtosis: 3.9688, 3.9688\n",
      "Kurtosis: 2.5011, 2.5011\n",
      "Kurtosis: 2.9624, 2.9624\n"
     ]
    }
   ],
   "source": [
    "getKurtosis(xx)\n",
    "getKurtosis(yy)\n",
    "getKurtosis(zz)"
   ]
  },
  {
   "cell_type": "code",
   "execution_count": null,
   "id": "fd163810-aaca-4e75-b4a7-a9156180d246",
   "metadata": {},
   "outputs": [],
   "source": []
  }
 ],
 "metadata": {
  "kernelspec": {
   "display_name": "Python 3 (ipykernel)",
   "language": "python",
   "name": "python3"
  },
  "language_info": {
   "codemirror_mode": {
    "name": "ipython",
    "version": 3
   },
   "file_extension": ".py",
   "mimetype": "text/x-python",
   "name": "python",
   "nbconvert_exporter": "python",
   "pygments_lexer": "ipython3",
   "version": "3.10.12"
  }
 },
 "nbformat": 4,
 "nbformat_minor": 5
}
