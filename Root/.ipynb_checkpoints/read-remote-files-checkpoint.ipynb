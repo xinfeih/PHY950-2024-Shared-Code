{
 "cells": [
  {
   "cell_type": "markdown",
   "metadata": {},
   "source": [
    "# How to Read Remote Files?\n",
    "\n",
    "Not only local ROOT files can be read, but also remote ones. The right *TFile* specialisation is chosen at runtime automatically by ROOT. The reccomended way of accessing remote files is to use the *TFile::Open* static function:"
   ]
  },
  {
   "cell_type": "code",
   "execution_count": 1,
   "metadata": {
    "collapsed": false
   },
   "outputs": [
    {
     "data": {
      "application/javascript": [
       "\n",
       "// Set default mode for code cells\n",
       "IPython.CodeCell.options_default.cm_config.mode = 'text/x-c++src';\n",
       "// Set CodeMirror's current mode\n",
       "var cells = IPython.notebook.get_cells();\n",
       "cells[cells.length-1].code_mirror.setOption('mode', 'text/x-c++src');\n",
       "// Set current mode for newly created cell\n",
       "cells[cells.length-1].cm_config.mode = 'text/x-c++src';\n"
      ]
     },
     "metadata": {},
     "output_type": "display_data"
    }
   ],
   "source": [
    "auto myFile = TFile::Open(\"http://root.cern.ch/files/usa.root\")"
   ]
  },
  {
   "cell_type": "markdown",
   "metadata": {},
   "source": [
    "In this case, ROOT automatically recognised from the string \"http://\" that the class to be used was TWebFile and chose the right plugin.\n",
    "This technique can be applied to a variety of protocols, such as for files on:\n",
    "+ **EOS**: TFile::Open(\"root://eosatlas.cern.ch//eos/atlas/user/t/test/histo.root\");\n",
    "+ **Web**: TFile::Open(\"http://root.cern.ch/files/usa.root\");\n",
    "+ **Amazon S3**: TFile::Open(\"s3://s3-eu-west-1.amazonaws.com/roots3/hsimple.root\");\n",
    "+ **Google Storage**: TFile::Open(\"gs://commondatastorage.googleapis.com/roots3/hsimple.root\");\n",
    "\n",
    "## Authenticate on Amazon S3\n",
    "Here follows a step-by-step recipe for authentication configuration between ROOT and Amazon S3:\n",
    "+ Go to the main Amazon S3 website and login into your account.\n",
    "+ Once you are logged in, click on Security Credentials on the left panel.\n",
    "+ In the section Access Credentials, tab Access Keys retrieve both Access Key ID and Secret Access Key.\n",
    "+ Set the following two environment variables: S3_ACCESS_KEY=\"your access key id\" and S3_SECRET_KEY=\"your secret access key\"\n",
    "\n",
    "## Authenticate on Google Storage\n",
    "Here follows a step-by-step recipe for authentication configuration between ROOT and Google Storage:\n",
    "+ Enable Legacy Access for Google Storage.\n",
    "+ Once you have generated both Legacy Storage Access Keys, retrieve both Access Key and Secret.\n",
    "+ Set the following two environment variables: GS_ACCESS_ID=\"your access id\" and GS_ACCESS_KEY=\"your access secret key\""
   ]
  }
 ],
 "metadata": {
  "kernelspec": {
   "display_name": "ROOT Prompt",
   "language": "python",
   "name": "root"
  },
  "language_info": {
   "codemirror_mode": {
    "name": "ipython",
    "version": 2
   },
   "file_extension": ".py",
   "mimetype": "text/x-python",
   "name": "python",
   "nbconvert_exporter": "python",
   "pygments_lexer": "ipython2",
   "version": "2.7.6"
  }
 },
 "nbformat": 4,
 "nbformat_minor": 0
}
