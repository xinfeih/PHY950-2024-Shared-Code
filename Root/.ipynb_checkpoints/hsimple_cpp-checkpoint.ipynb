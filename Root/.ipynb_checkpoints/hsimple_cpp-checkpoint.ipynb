{
 "cells": [
  {
   "cell_type": "markdown",
   "metadata": {},
   "source": [
    "# hSimple\n",
    "\n",
    "This program creates:\n",
    "* A one-dimensional histogram\n",
    "* A two-dimensional histogram\n",
    "* A profile histogram\n",
    "* A memory-resident ntuple\n",
    "\n",
    "These objects are filled with some random numbers and saved on a file called `hsimple.root` in `$PWD`.\n",
    "\n",
    "---"
   ]
  },
  {
   "cell_type": "markdown",
   "metadata": {},
   "source": [
    "Create a new machine-independent ROOT binary file. Note that this file may contain any kind of ROOT objects, histograms, pictures, graphics objects, detector geometries, tracks, events, etc.\n",
    "\n",
    "This file will become the current directory."
   ]
  },
  {
   "cell_type": "code",
   "execution_count": 2,
   "metadata": {
    "jupyter": {
     "outputs_hidden": false
    }
   },
   "outputs": [
    {
     "ename": "SyntaxError",
     "evalue": "invalid syntax (2489887186.py, line 1)",
     "output_type": "error",
     "traceback": [
      "\u001b[0;36m  Cell \u001b[0;32mIn [2], line 1\u001b[0;36m\u001b[0m\n\u001b[0;31m    string filename = \"hsimple.root\";\u001b[0m\n\u001b[0m           ^\u001b[0m\n\u001b[0;31mSyntaxError\u001b[0m\u001b[0;31m:\u001b[0m invalid syntax\n"
     ]
    }
   ],
   "source": [
    "string filename = \"hsimple.root\";\n",
    "TFile hfile(filename,\"RECREATE\",\"Demo ROOT file with histograms\");"
   ]
  },
  {
   "cell_type": "markdown",
   "metadata": {},
   "source": [
    "Create two histograms, a profile histogram and an ntuple."
   ]
  },
  {
   "cell_type": "code",
   "execution_count": 2,
   "metadata": {
    "jupyter": {
     "outputs_hidden": false
    }
   },
   "outputs": [],
   "source": [
    "TH1F hpx(\"hpx\",\"This is the px distribution\",64,-4,4);\n",
    "TH2F hpxpy(\"hpxpy\",\"py vs px\",64,-4,4,64,-4,4);\n",
    "TProfile hprof(\"hprof\",\"Profile of pz versus px\",64,-4,4,0,20);\n",
    "TNtuple ntuple(\"ntuple\",\"Demo ntuple\",\"px:py:pz:random:i\");"
   ]
  },
  {
   "cell_type": "markdown",
   "metadata": {},
   "source": [
    "Create a new canvas."
   ]
  },
  {
   "cell_type": "code",
   "execution_count": 3,
   "metadata": {
    "jupyter": {
     "outputs_hidden": false
    }
   },
   "outputs": [],
   "source": [
    "TCanvas c1(\"c1\",\"Filling Example\",800,600);"
   ]
  },
  {
   "cell_type": "markdown",
   "metadata": {},
   "source": [
    "Fill histograms randomly and benchmark it."
   ]
  },
  {
   "cell_type": "code",
   "execution_count": 4,
   "metadata": {
    "jupyter": {
     "outputs_hidden": false
    }
   },
   "outputs": [
    {
     "name": "stdout",
     "output_type": "stream",
     "text": [
      "hsimple   : Real Time =   0.09 seconds Cpu Time =   0.08 seconds\n"
     ]
    }
   ],
   "source": [
    "auto benchmarkName = \"hsimple\";\n",
    "gBenchmark->Start(benchmarkName);\n",
    "\n",
    "TRandom3 r;\n",
    "Float_t px, py, pz;\n",
    "for (Int_t i = 0; i < 50000; i++) {\n",
    "    r.Rannor(px,py);\n",
    "    pz = px*px + py*py;\n",
    "    auto rnd = r.Rndm();\n",
    "    hpx.Fill(px);\n",
    "    hpxpy.Fill(px,py);\n",
    "    hprof.Fill(px,pz);\n",
    "    ntuple.Fill(px,py,pz,rnd,i);\n",
    "}\n",
    "\n",
    "gBenchmark->Show(benchmarkName);"
   ]
  },
  {
   "cell_type": "markdown",
   "metadata": {},
   "source": [
    "Save all objects in the `hsimple.root` file."
   ]
  },
  {
   "cell_type": "code",
   "execution_count": 5,
   "metadata": {
    "jupyter": {
     "outputs_hidden": false
    }
   },
   "outputs": [],
   "source": [
    "hpx.SetFillColor(0);\n",
    "hfile.Write();"
   ]
  },
  {
   "cell_type": "markdown",
   "metadata": {},
   "source": [
    "Draw the histogram and the canvas."
   ]
  },
  {
   "cell_type": "code",
   "execution_count": 6,
   "metadata": {
    "jupyter": {
     "outputs_hidden": false
    }
   },
   "outputs": [
    {
     "data": {
      "image/png": "[encoded data removed]",
      "text/plain": [
       "<IPython.core.display.Image object>"
      ]
     },
     "metadata": {},
     "output_type": "display_data"
    }
   ],
   "source": [
    "hpx.SetFillColor(kBlue-10);\n",
    "hpx.SetLineColor(kBlue);\n",
    "hpx.Draw();\n",
    "c1.Draw();"
   ]
  },
  {
   "cell_type": "markdown",
   "metadata": {},
   "source": [
    "Close the file and list its contents."
   ]
  },
  {
   "cell_type": "code",
   "execution_count": 7,
   "metadata": {
    "collapsed": true,
    "jupyter": {
     "outputs_hidden": true
    }
   },
   "outputs": [],
   "source": [
    "hfile.Close();"
   ]
  },
  {
   "cell_type": "code",
   "execution_count": 8,
   "metadata": {
    "jupyter": {
     "outputs_hidden": false
    }
   },
   "outputs": [
    {
     "name": "stdout",
     "output_type": "stream",
     "text": [
      "hprof\n",
      "hpx\n",
      "hpxpy\n",
      "ntuple\n"
     ]
    }
   ],
   "source": [
    ".! rootls -1 hsimple.root"
   ]
  }
 ],
 "metadata": {
  "kernelspec": {
   "display_name": "Python 3 (ipykernel)",
   "language": "python",
   "name": "python3"
  },
  "language_info": {
   "codemirror_mode": {
    "name": "ipython",
    "version": 3
   },
   "file_extension": ".py",
   "mimetype": "text/x-python",
   "name": "python",
   "nbconvert_exporter": "python",
   "pygments_lexer": "ipython3",
   "version": "3.10.12"
  }
 },
 "nbformat": 4,
 "nbformat_minor": 4
}
