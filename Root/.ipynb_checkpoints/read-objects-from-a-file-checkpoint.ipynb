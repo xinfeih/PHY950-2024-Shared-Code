{
 "cells": [
  {
   "cell_type": "markdown",
   "metadata": {},
   "source": [
    "# How to Read Objects from a File?\n",
    "\n",
    "Retrieving objects from a ROOT file can be done with with *TFile::GetObject* method:"
   ]
  },
  {
   "cell_type": "code",
   "execution_count": 1,
   "metadata": {
    "collapsed": false
   },
   "outputs": [
    {
     "data": {
      "application/javascript": [
       "\n",
       "// Set default mode for code cells\n",
       "IPython.CodeCell.options_default.cm_config.mode = 'text/x-c++src';\n",
       "// Set CodeMirror's current mode\n",
       "var cells = IPython.notebook.get_cells();\n",
       "cells[cells.length-1].code_mirror.setOption('mode', 'text/x-c++src');\n",
       "// Set current mode for newly created cell\n",
       "cells[cells.length-1].cm_config.mode = 'text/x-c++src';\n"
      ]
     },
     "metadata": {},
     "output_type": "display_data"
    }
   ],
   "source": [
    "TFile inputFile (\"inputFile.root\");\n",
    "TH1F* h = nullptr;\n",
    "inputFile.GetObject(\"myHisto\",h);"
   ]
  },
  {
   "cell_type": "markdown",
   "metadata": {},
   "source": [
    "What happens behind the scenes, in a nutshell, is the following:\n",
    "+ The key with name \"myHisto\"is found in the list of keys.\n",
    "+ A TBuffer object is created.\n",
    "+ The buffer is read from the file.\n",
    "+ An empty object is created by calling the default constructor for the class referenced in TKey.\n",
    "+ Call the Streamer method for this new object.\n",
    "\n",
    "In case of an object with multiple cycles, one can pick a particular cycle with a name like \"myHisto;<CycleNumber>\" (e.g. \"myHisto;2\")\n",
    "\n",
    "Another approach could be adopted acting directly of keys, for example when the names of the objects contained in the file are not known a priori or when a long series of objects needs to be read sequentially (the method described above is indeed interesting to pick an object by its name in complete random access). The example below illustrates how to loop over all keys of a file:"
   ]
  },
  {
   "cell_type": "code",
   "execution_count": 5,
   "metadata": {
    "collapsed": false
   },
   "outputs": [
    {
     "data": {
      "application/javascript": [
       "\n",
       "// Set default mode for code cells\n",
       "IPython.CodeCell.options_default.cm_config.mode = 'text/x-c++src';\n",
       "// Set CodeMirror's current mode\n",
       "var cells = IPython.notebook.get_cells();\n",
       "cells[cells.length-1].code_mirror.setOption('mode', 'text/x-c++src');\n",
       "// Set current mode for newly created cell\n",
       "cells[cells.length-1].cm_config.mode = 'text/x-c++src';\n"
      ]
     },
     "metadata": {},
     "output_type": "display_data"
    },
    {
     "name": "stdout",
     "output_type": "stream",
     "text": [
      "Key name: myHisto Type: TH1F\n",
      "Key name: myVector Type: vector<int>\n"
     ]
    }
   ],
   "source": [
    "for (TObject* keyAsObj : *inputFile.GetListOfKeys()){\n",
    "    auto key = dynamic_cast<TKey*>(keyAsObj);\n",
    "    std::cout << \"Key name: \" << key->GetName() << \" Type: \" << key->GetClassName() << std::endl;\n",
    "}"
   ]
  },
  {
   "cell_type": "markdown",
   "metadata": {},
   "source": [
    "## What happens if your job crashes while you write a file?\n",
    "\n",
    "In case a program does not terminate in a clean way, the file directory may not be written at the end of the file. Next time this file is used, ROOT will automatically detect this abnormal termination and will recover the directory by scanning sequentially the list of keys in the file. If the file has been opened in UPDATE mode, the recovered directory will be automatically written to the file. This automatic recovery procedure is possible because of redundant information written to the file. In case you write large *TTrees*, you may have large buffers in memory. In case of a job crash, you may loose a lot of data. A mechanism is foreseen for this case as well. See *TTree::AutoSave*.\n",
    "\n",
    "## Can a file being written by a *process* be read simultaneously by another *process*?\n",
    "\n",
    "It is thanks to the redundancies mentioned above that the ROOT file format allows to read a file which is being written by a separate process at the same time. This can be particularly important for online applications where a Data Acquisition System may be writing a large ROOT file which is \"spied\" by a separate monitoring process."
   ]
  }
 ],
 "metadata": {
  "kernelspec": {
   "display_name": "ROOT Prompt",
   "language": "c++",
   "name": "root"
  },
  "language_info": {
   "codemirror_mode": {
    "name": "ipython",
    "version": 2
   },
   "file_extension": ".py",
   "mimetype": "text/x-python",
   "name": "python",
   "nbconvert_exporter": "python",
   "pygments_lexer": "ipython2",
   "version": "2.7.6"
  }
 },
 "nbformat": 4,
 "nbformat_minor": 0
}
