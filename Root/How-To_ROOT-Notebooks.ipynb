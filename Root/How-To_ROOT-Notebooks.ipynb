{
 "cells": [
  {
   "cell_type": "markdown",
   "metadata": {},
   "source": [
    "# How to use ROOT in a Jupyter notebook\n",
    "\n",
    "ROOT is integrated with the [Jupyter notebook](https://jupyter.org/) technology. There are two alternatives for using ROOT in a notebook:\n",
    "1. **[Python flavour](#python)**: the default language of the notebook is Python and ROOT is accessed via the PyROOT interface. The user can mark cells to be C++ with the **`%%cpp`** [magic](https://ipython.org/ipython-doc/3/interactive/reference.html#magic-command-system).\n",
    "2. **[C++ flavour](#cpp)**: the notebook is entirely written in C++, thus emulating the ROOT C++ prompt.\n",
    "\n",
    "This Python notebook will show how to use the Python flavour.\n",
    "\n",
    "---"
   ]
  },
  {
   "cell_type": "markdown",
   "metadata": {},
   "source": [
    "## <a id=\"python\"></a> Python flavour\n",
    "In order to use ROOT in a Python notebook, we first need to import the ROOT module. During the import, all notebook related functionalities are activated."
   ]
  },
  {
   "cell_type": "code",
   "execution_count": null,
   "metadata": {},
   "outputs": [],
   "source": [
    "import ROOT"
   ]
  },
  {
   "cell_type": "markdown",
   "metadata": {},
   "source": [
    "Now we are ready to use [PyROOT](https://root.cern.ch/how/how-use-pyroot-root-python-bindings). For example, we create a histogram."
   ]
  },
  {
   "cell_type": "code",
   "execution_count": null,
   "metadata": {},
   "outputs": [],
   "source": [
    "h = ROOT.TH1F(\"gauss\",\"Example histogram\",100,-4,4)\n",
    "h.FillRandom(\"gaus\")"
   ]
  },
  {
   "cell_type": "markdown",
   "metadata": {},
   "source": [
    "Next we create a [canvas](https://root.cern.ch/root/htmldoc/TCanvas.html), the entity which holds graphics primitives in ROOT."
   ]
  },
  {
   "cell_type": "code",
   "execution_count": null,
   "metadata": {},
   "outputs": [],
   "source": [
    "c = ROOT.TCanvas(\"myCanvasName\",\"The Canvas Title\",800,600)\n",
    "h.Draw()"
   ]
  },
  {
   "cell_type": "markdown",
   "metadata": {},
   "source": [
    "For the histogram to be displayed in the notebook, we need to draw the canvas."
   ]
  },
  {
   "cell_type": "code",
   "execution_count": null,
   "metadata": {},
   "outputs": [],
   "source": [
    "c.Draw()"
   ]
  },
  {
   "cell_type": "markdown",
   "metadata": {},
   "source": [
    "It is not active by default yet, but Javascript visualisation can be activated for testing purposes. The plot below will be interactive: click on it and discover the [JSROOT](https://root.cern.ch/js/) capabilities!"
   ]
  },
  {
   "cell_type": "code",
   "execution_count": null,
   "metadata": {},
   "outputs": [],
   "source": [
    "%jsroot on\n",
    "c.Draw()"
   ]
  },
  {
   "cell_type": "markdown",
   "metadata": {},
   "source": [
    "### Interleave Python with C++: the `%%cpp` magic"
   ]
  },
  {
   "cell_type": "markdown",
   "metadata": {},
   "source": [
    "Thanks to ROOT, it is possibile to write cells in C++ within a Python notebook. \n",
    "This can be done using the **`%%cpp`** [magic](https://ipython.org/ipython-doc/3/interactive/reference.html#magic-command-system). Magics are a feature of Jupyter notebooks and when importing the ROOT module, the **`%%cpp`** magic was registered."
   ]
  },
  {
   "cell_type": "code",
   "execution_count": null,
   "metadata": {},
   "outputs": [],
   "source": [
    "%%cpp\n",
    "cout << \"This is a C++ cell\" << endl;"
   ]
  },
  {
   "cell_type": "markdown",
   "metadata": {},
   "source": [
    "Not bad. On the other hand, ROOT offers much more than this. Thanks to its type system, entities such as functions, classes and variables, created in a C++ cell, can be accessed from within Python."
   ]
  },
  {
   "cell_type": "code",
   "execution_count": null,
   "metadata": {},
   "outputs": [],
   "source": [
    "%%cpp\n",
    "class A{\n",
    "    public:\n",
    "    A(){cout << \"Constructor of A!\" << endl;}\n",
    "};"
   ]
  },
  {
   "cell_type": "code",
   "execution_count": null,
   "metadata": {},
   "outputs": [],
   "source": [
    "a = ROOT.A()"
   ]
  },
  {
   "cell_type": "markdown",
   "metadata": {},
   "source": [
    "The Python and C++ worlds are so entangled that we can find back in C++ the entities created in Python. To illustrate this, from within a C++ cell, we are going to fit a function in the `gauss` histogram displayed above and then re-draw the canvas."
   ]
  },
  {
   "cell_type": "code",
   "execution_count": null,
   "metadata": {},
   "outputs": [],
   "source": [
    "%%cpp\n",
    "gauss->Fit(\"gaus\", \"S\");\n",
    "myCanvasName->Draw();"
   ]
  },
  {
   "cell_type": "markdown",
   "metadata": {},
   "source": [
    "Complete interoperability is possible. Let's move now to the options offered by the **`%%cpp`** magic.\n",
    "\n",
    "### The options of the `%%cpp` magic"
   ]
  },
  {
   "cell_type": "markdown",
   "metadata": {},
   "source": [
    "The **`%%cpp`** magic accepts two options: `-d` and `-a`. Their documentation can be seen by typing:"
   ]
  },
  {
   "cell_type": "code",
   "execution_count": null,
   "metadata": {},
   "outputs": [],
   "source": [
    "%%cpp?"
   ]
  },
  {
   "cell_type": "markdown",
   "metadata": {},
   "source": [
    "A window will appear at the bottom of the page, showing the documentation.\n",
    "\n",
    "#### ACliC\n",
    "The first option (`-a`) allows to compile the cell code with [ACLiC](https://root.cern.ch/compiling-your-code-also-known-aclic). This is not so relevant for performance since the ROOT [interpreter](https://root.cern.ch/cling) just in time compiles the C++ code. Nevertheless, [ACLiC](https://root.cern.ch/compiling-your-code-also-known-aclic) is most useful when the automatic creation of dictionaries is required, for example in presence of I/O operations."
   ]
  },
  {
   "cell_type": "code",
   "execution_count": null,
   "metadata": {},
   "outputs": [],
   "source": [
    "%%cpp -a\n",
    "class CompileMe {\n",
    "public:\n",
    "    CompileMe() {}\n",
    "    void run() {}\n",
    "};"
   ]
  },
  {
   "cell_type": "markdown",
   "metadata": {},
   "source": [
    "Let's verify that the dictionary is there:"
   ]
  },
  {
   "cell_type": "code",
   "execution_count": null,
   "metadata": {},
   "outputs": [],
   "source": [
    "ROOT.TClass.GetClass(\"CompileMe\").HasDictionary()"
   ]
  },
  {
   "cell_type": "markdown",
   "metadata": {},
   "source": [
    "Note that the previously created class `A` has no dictionary."
   ]
  },
  {
   "cell_type": "code",
   "execution_count": null,
   "metadata": {},
   "outputs": [],
   "source": [
    "ROOT.TClass.GetClass(\"A\").HasDictionary()"
   ]
  },
  {
   "cell_type": "markdown",
   "metadata": {},
   "source": [
    "#### Declaration of functions\n",
    "The second option (`-d`) needs to be used when declaring functions. The [interpreter](https://root.cern.ch/cling) cannot yet detect function declarations by itself: we need to be explicit. This is a limitation which will be lifted in the near future."
   ]
  },
  {
   "cell_type": "code",
   "execution_count": null,
   "metadata": {},
   "outputs": [],
   "source": [
    "%%cpp -d\n",
    "void f() {\n",
    "    cout << \"This is function f\" << endl;\n",
    "}"
   ]
  },
  {
   "cell_type": "markdown",
   "metadata": {},
   "source": [
    "As usual, function `f` can also be accessed from Python."
   ]
  },
  {
   "cell_type": "code",
   "execution_count": null,
   "metadata": {},
   "outputs": [],
   "source": [
    "print(\"This is again Python\")\n",
    "ROOT.f()"
   ]
  }
 ],
 "metadata": {
  "kernelspec": {
   "display_name": "Python 3 (ipykernel)",
   "language": "python",
   "name": "python3"
  },
  "language_info": {
   "codemirror_mode": {
    "name": "ipython",
    "version": 3
   },
   "file_extension": ".py",
   "mimetype": "text/x-python",
   "name": "python",
   "nbconvert_exporter": "python",
   "pygments_lexer": "ipython3",
   "version": "3.12.6"
  }
 },
 "nbformat": 4,
 "nbformat_minor": 4
}
