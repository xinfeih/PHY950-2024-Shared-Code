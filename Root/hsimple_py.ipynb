{
 "cells": [
  {
   "cell_type": "markdown",
   "metadata": {},
   "source": [
    "# hSimple\n",
    "\n",
    "This program creates:\n",
    "* A one-dimensional histogram\n",
    "* A two-dimensional histogram\n",
    "* A profile histogram\n",
    "* A memory-resident ntuple\n",
    "\n",
    "These objects are filled with some random numbers and saved on a file called `hsimple.root` in `$PWD`.\n",
    "\n",
    "---"
   ]
  },
  {
   "cell_type": "code",
   "execution_count": 1,
   "metadata": {
    "jupyter": {
     "outputs_hidden": false
    }
   },
   "outputs": [
    {
     "name": "stdout",
     "output_type": "stream",
     "text": [
      "Welcome to JupyROOT 6.28/02\n"
     ]
    }
   ],
   "source": [
    "import ROOT"
   ]
  },
  {
   "cell_type": "markdown",
   "metadata": {},
   "source": [
    "Create a new machine-independent ROOT binary file. Note that this file may contain any kind of ROOT objects, histograms, pictures, graphics objects, detector geometries, tracks, events, etc.\n",
    "\n",
    "This file will become the current directory."
   ]
  },
  {
   "cell_type": "code",
   "execution_count": 2,
   "metadata": {},
   "outputs": [],
   "source": [
    "filename = \"hsimple.root\"\n",
    "hfile = ROOT.TFile(filename,\"RECREATE\",\"Demo ROOT file with histograms\")"
   ]
  },
  {
   "cell_type": "markdown",
   "metadata": {},
   "source": [
    "Create two histograms, a profile histogram and an ntuple."
   ]
  },
  {
   "cell_type": "code",
   "execution_count": 5,
   "metadata": {
    "scrolled": false
   },
   "outputs": [],
   "source": [
    "ROOT.TFile?"
   ]
  },
  {
   "cell_type": "code",
   "execution_count": 6,
   "metadata": {},
   "outputs": [],
   "source": [
    "hpx = ROOT.TH1F(\"hpx\",\"This is the px distribution\",64,-4,4)\n",
    "hpxpy = ROOT.TH2F(\"hpxpy\",\"py vs px\",64,-4,4,64,-4,4)\n",
    "hprof = ROOT.TProfile(\"hprof\",\"Profile of pz versus px\",64,-4,4,0,20)\n",
    "ntuple = ROOT.TNtuple(\"ntuple\",\"Demo ntuple\",\"px:py:pz:random:i\")"
   ]
  },
  {
   "cell_type": "markdown",
   "metadata": {},
   "source": [
    "Create a new canvas."
   ]
  },
  {
   "cell_type": "code",
   "execution_count": 7,
   "metadata": {
    "jupyter": {
     "outputs_hidden": false
    }
   },
   "outputs": [],
   "source": [
    "c1 = ROOT.TCanvas(\"c1\",\"Filling Example\",800,600)"
   ]
  },
  {
   "cell_type": "markdown",
   "metadata": {},
   "source": [
    "Fill histograms randomly and benchmark it."
   ]
  },
  {
   "cell_type": "code",
   "execution_count": 8,
   "metadata": {
    "jupyter": {
     "outputs_hidden": false
    }
   },
   "outputs": [
    {
     "name": "stdout",
     "output_type": "stream",
     "text": [
      "hsimple   : Real Time =   0.25 seconds Cpu Time =   0.23 seconds\n"
     ]
    }
   ],
   "source": [
    "benchmarkName = \"hsimple\"\n",
    "ROOT.gBenchmark.Start(benchmarkName)\n",
    "\n",
    "r = ROOT.TRandom3()\n",
    "rD = ROOT.Float_t\n",
    "px, py, pz = rD(0.), rD(0.), rD(0.)\n",
    "for i in range(50000):\n",
    "    px = r.Gaus(0,1)\n",
    "    py = r.Gaus(0,1)\n",
    "    pz = px*px + py*py\n",
    "    rnd = r.Rndm()\n",
    "    hpx.Fill(px)\n",
    "    hpxpy.Fill(px,py)\n",
    "    hprof.Fill(px,pz)\n",
    "    ntuple.Fill(px,py,pz,rnd,i)\n",
    "\n",
    "ROOT.gBenchmark.Show(benchmarkName)"
   ]
  },
  {
   "cell_type": "markdown",
   "metadata": {},
   "source": [
    "Save all objects in the `hsimple.root` file."
   ]
  },
  {
   "cell_type": "code",
   "execution_count": 9,
   "metadata": {
    "jupyter": {
     "outputs_hidden": false
    }
   },
   "outputs": [
    {
     "name": "stdout",
     "output_type": "stream",
     "text": [
      "Bytes written: 6718\n"
     ]
    }
   ],
   "source": [
    "hpx.SetFillColor(0)\n",
    "print(\"Bytes written:\", hfile.Write())"
   ]
  },
  {
   "cell_type": "markdown",
   "metadata": {
    "collapsed": true,
    "jupyter": {
     "outputs_hidden": true
    }
   },
   "source": [
    "Draw the histogram and the canvas."
   ]
  },
  {
   "cell_type": "code",
   "execution_count": 10,
   "metadata": {
    "jupyter": {
     "outputs_hidden": false
    }
   },
   "outputs": [
    {
     "data": {
      "image/png": "[encoded data removed]",
      "text/plain": [
       "<IPython.core.display.Image object>"
      ]
     },
     "metadata": {},
     "output_type": "display_data"
    }
   ],
   "source": [
    "hpx.SetFillColor(ROOT.kBlue-10)\n",
    "hpx.SetLineColor(ROOT.kBlue)\n",
    "hpx.Draw()\n",
    "c1.Draw()"
   ]
  },
  {
   "cell_type": "markdown",
   "metadata": {},
   "source": [
    "Close the file and list its contents."
   ]
  },
  {
   "cell_type": "code",
   "execution_count": 11,
   "metadata": {},
   "outputs": [],
   "source": [
    "hfile.Close();"
   ]
  },
  {
   "cell_type": "code",
   "execution_count": 12,
   "metadata": {
    "jupyter": {
     "outputs_hidden": false
    }
   },
   "outputs": [
    {
     "name": "stdout",
     "output_type": "stream",
     "text": [
      "hprof\n",
      "hpx\n",
      "hpxpy\n",
      "ntuple\n"
     ]
    }
   ],
   "source": [
    "%%bash\n",
    "rootls -1 hsimple.root"
   ]
  },
  {
   "cell_type": "code",
   "execution_count": null,
   "metadata": {},
   "outputs": [],
   "source": []
  }
 ],
 "metadata": {
  "kernelspec": {
   "display_name": "Python 3 (ipykernel)",
   "language": "python",
   "name": "python3"
  },
  "language_info": {
   "codemirror_mode": {
    "name": "ipython",
    "version": 3
   },
   "file_extension": ".py",
   "mimetype": "text/x-python",
   "name": "python",
   "nbconvert_exporter": "python",
   "pygments_lexer": "ipython3",
   "version": "3.10.12"
  }
 },
 "nbformat": 4,
 "nbformat_minor": 4
}
