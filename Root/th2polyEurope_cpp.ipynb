{
 "cells": [
  {
   "cell_type": "markdown",
   "metadata": {},
   "source": [
    "# TH2 Poly Europe\n",
    "This notebook illustrates how to create a histogram with polygonal bins (`TH2Poly`), fill it and draw it. The initial data are stored in `TMultiGraphs` and they represent the surface of some european countries.\n",
    "\n",
    "The histogram filling is done according to a *Mercator* projection, therefore the bin content should be proportional to the real surface of the countries.\n",
    "\n",
    "The initial data have been downloaded from http://www.maproom.psu.edu/dcw/. This database was developed in 1991/1992 and national boundaries reflect political reality as of that time.\n",
    "\n",
    "The program is shooting `npoints` randomly over the Europe area. The number of points inside the countries should be proportional to the country surface. The estimated surface is compared to the surfaces taken from Wikipedia.\n",
    "\n",
    "---"
   ]
  },
  {
   "cell_type": "markdown",
   "metadata": {},
   "source": [
    "Variables' initialization:\n",
    "- Number of points.\n",
    "- Latitude and longitude."
   ]
  },
  {
   "cell_type": "code",
   "execution_count": null,
   "metadata": {
    "collapsed": false,
    "jupyter": {
     "outputs_hidden": false
    }
   },
   "outputs": [],
   "source": [
    "const Int_t npoints = 100000;\n",
    "\n",
    "const Double_t lon1 = -25.;\n",
    "const Double_t lon2 =  35.;\n",
    "const Double_t lat1 =  34.;\n",
    "const Double_t lat2 =  72.;\n",
    "const Double_t R    = (lat2-lat1)/(lon2-lon1);"
   ]
  },
  {
   "cell_type": "markdown",
   "metadata": {
    "collapsed": true,
    "jupyter": {
     "outputs_hidden": true
    }
   },
   "source": [
    "Initialize global style."
   ]
  },
  {
   "cell_type": "code",
   "execution_count": null,
   "metadata": {},
   "outputs": [],
   "source": [
    "gStyle->SetStatX(0.28);\n",
    "gStyle->SetStatY(0.45);\n",
    "gStyle->SetStatW(0.15);"
   ]
  },
  {
   "cell_type": "markdown",
   "metadata": {
    "collapsed": true,
    "jupyter": {
     "outputs_hidden": true
    }
   },
   "source": [
    "Create canvas used to draw `TH2Poly` (the map)."
   ]
  },
  {
   "cell_type": "code",
   "execution_count": null,
   "metadata": {},
   "outputs": [],
   "source": [
    "const Int_t W = 800;\n",
    "const Int_t H = (Int_t)(R*800);\n",
    "\n",
    "TCanvas ce(\"ce\",\"ce\",0,0,W,H);\n",
    "ce.SetGridx();\n",
    "ce.SetGridy();"
   ]
  },
  {
   "cell_type": "markdown",
   "metadata": {
    "collapsed": true,
    "jupyter": {
     "outputs_hidden": true
    }
   },
   "source": [
    "Real surfaces taken from Wikipedia.\n",
    "See http://en.wikipedia.org/wiki/Area_and_population_of_European_countries"
   ]
  },
  {
   "cell_type": "code",
   "execution_count": null,
   "metadata": {},
   "outputs": [],
   "source": [
    "const Int_t nx = 36;\n",
    "const char *countries[nx] = {\n",
    "    \"france\",     \"spain\",  \"sweden\",  \"germany\",       \"finland\",\n",
    "    \"norway\",     \"poland\", \"italy\",   \"yugoslavia\",    \"united_kingdom\",\n",
    "    \"romania\",    \"belarus\",\"greece\",  \"czechoslovakia\",\"bulgaria\",\n",
    "    \"iceland\",    \"hungary\",\"portugal\",\"austria\",       \"ireland\",\n",
    "    \"lithuania\",  \"latvia\", \"estonia\", \"denmark\",       \"netherlands\",\n",
    "    \"switzerland\",\"moldova\",\"belgium\", \"albania\",       \"cyprus\",\n",
    "    \"luxembourg\", \"andorra\",\"malta\",   \"liechtenstein\", \"san_marino\",\n",
    "    \"monaco\"\n",
    "};\n",
    "Float_t surfaces[nx] = {\n",
    "    547030,     505580,   449964,   357021,     338145,\n",
    "    324220,     312685,   301230,   255438,     244820,\n",
    "    237500,     207600,   131940,   127711,     110910,\n",
    "    103000,     93030,    89242,    83870,      70280,\n",
    "    65200,      64589,    45226,    43094,      41526,\n",
    "    41290,      33843,    30528,    28748,      9250,\n",
    "    2586,       468,      316,      160,        61,\n",
    "    2\n",
    "};"
   ]
  },
  {
   "cell_type": "markdown",
   "metadata": {},
   "source": [
    "Create histogram with surfaces of countries."
   ]
  },
  {
   "cell_type": "code",
   "execution_count": null,
   "metadata": {},
   "outputs": [],
   "source": [
    "TH1F h(\"h\",\"Countries surfaces (in km^{2})\",3,0,3);\n",
    "for (int i=0; i<nx; i++)\n",
    "    h.Fill(countries[i], surfaces[i]);\n",
    "h.LabelsDeflate();"
   ]
  },
  {
   "cell_type": "markdown",
   "metadata": {},
   "source": [
    "Get remote file."
   ]
  },
  {
   "cell_type": "code",
   "execution_count": null,
   "metadata": {
    "collapsed": false,
    "jupyter": {
     "outputs_hidden": false
    }
   },
   "outputs": [],
   "source": [
    "TFile::SetCacheFileDir(\".\");\n",
    "auto fileUrl = \"http://root.cern.ch/files/europe.root\";\n",
    "auto f = TFile::Open(fileUrl,\"cacheread\");\n",
    "if (!f) cout << \"Error: Cannot access remote file \" << fileUrl << endl;"
   ]
  },
  {
   "cell_type": "markdown",
   "metadata": {},
   "source": [
    "Create the map and fill it. See the documentation of [TKey](https://root.cern.ch/root/htmldoc/TKey.html) for more information about this loop."
   ]
  },
  {
   "cell_type": "code",
   "execution_count": null,
   "metadata": {
    "collapsed": false,
    "jupyter": {
     "outputs_hidden": false
    }
   },
   "outputs": [],
   "source": [
    "TH2Poly p(\"Europe\",\"Europe (bin contents are normalized to the surfaces in km^{2})\",lon1,lon2,lat1,lat2);\n",
    "p.GetXaxis()->SetNdivisions(520);\n",
    "p.GetXaxis()->SetTitle(\"longitude\");\n",
    "p.GetYaxis()->SetTitle(\"latitude\");\n",
    "p.SetContour(100);\n",
    "\n",
    "for (auto&& keyAsTObj : *gDirectory->GetListOfKeys()){\n",
    "    auto key = (TKey*) keyAsTObj;\n",
    "    auto obj = key->ReadObj();\n",
    "    if (obj->InheritsFrom(\"TMultiGraph\")) {\n",
    "        auto mg = (TMultiGraph*)obj;\n",
    "        p.AddBin(mg);\n",
    "    }\n",
    "}"
   ]
  },
  {
   "cell_type": "markdown",
   "metadata": {},
   "source": [
    "Do the partitioning of the map."
   ]
  },
  {
   "cell_type": "code",
   "execution_count": null,
   "metadata": {
    "collapsed": false,
    "jupyter": {
     "outputs_hidden": false
    }
   },
   "outputs": [],
   "source": [
    "auto partBenchmarkName = \"Partitioning\";\n",
    "gBenchmark->Start(partBenchmarkName);\n",
    "p.ChangePartition(100,100);\n",
    "gBenchmark->Show(partBenchmarkName);"
   ]
  },
  {
   "cell_type": "markdown",
   "metadata": {},
   "source": [
    "Fill `TH2Poly` according to a Mercator projection."
   ]
  },
  {
   "cell_type": "code",
   "execution_count": null,
   "metadata": {
    "collapsed": false,
    "jupyter": {
     "outputs_hidden": false
    }
   },
   "outputs": [],
   "source": [
    "Double_t longitude, latitude, x, y;\n",
    "const Double_t pi4 = TMath::Pi()/4., alpha = TMath::Pi()/360.;\n",
    "\n",
    "TRandom3 r;\n",
    "auto fillBenchmarkName = \"Filling\";\n",
    "gBenchmark->Start(fillBenchmarkName);\n",
    "\n",
    "for (int i=0; i<npoints; i++) {\n",
    "    longitude = r.Uniform(lon1,lon2);\n",
    "    latitude  = r.Uniform(lat1,lat2);\n",
    "    x         = longitude;\n",
    "    y         = 38*TMath::Log(TMath::Tan(pi4+alpha*latitude));\n",
    "    p.Fill(x,y);\n",
    "}\n",
    "\n",
    "gBenchmark->Show(fillBenchmarkName);\n",
    "\n",
    "Int_t nbins = p.GetNumberOfBins();\n",
    "Double_t maximum = p.GetMaximum();"
   ]
  },
  {
   "cell_type": "markdown",
   "metadata": {},
   "source": [
    "Fill a histogram with the surfaces computed from `TH2Poly`."
   ]
  },
  {
   "cell_type": "code",
   "execution_count": null,
   "metadata": {
    "collapsed": false,
    "jupyter": {
     "outputs_hidden": false
    }
   },
   "outputs": [],
   "source": [
    "auto h2 = (TH1F *)h.Clone(\"h2\");\n",
    "h2->Reset();\n",
    "for (int j=0; j<nx; j++) {\n",
    "    for (int i=0; i<nbins; i++) {\n",
    "        if (strstr(countries[j],p.GetBinName(i+1))) {\n",
    "            h2->Fill(countries[j],p.GetBinContent(i+1));\n",
    "            h2->SetBinError(j, p.GetBinError(i+1));\n",
    "        }\n",
    "    }\n",
    "}"
   ]
  },
  {
   "cell_type": "markdown",
   "metadata": {},
   "source": [
    "Normalize the `TH2Poly` bin contents to the real surfaces."
   ]
  },
  {
   "cell_type": "code",
   "execution_count": null,
   "metadata": {},
   "outputs": [],
   "source": [
    "Double_t scale = surfaces[0]/maximum;\n",
    "for (int i=0; i<nbins; i++)\n",
    "    p.SetBinContent(i+1, scale*p.GetBinContent(i+1));"
   ]
  },
  {
   "cell_type": "markdown",
   "metadata": {},
   "source": [
    "Draw the canvas with the map."
   ]
  },
  {
   "cell_type": "code",
   "execution_count": null,
   "metadata": {
    "collapsed": false,
    "jupyter": {
     "outputs_hidden": false
    }
   },
   "outputs": [],
   "source": [
    "gStyle->SetOptStat(1111);\n",
    "\n",
    "p.Draw(\"COLZ\");\n",
    "ce.Draw();"
   ]
  },
  {
   "cell_type": "markdown",
   "metadata": {},
   "source": [
    "Set up another canvas for `h` and `h2` and draw it."
   ]
  },
  {
   "cell_type": "code",
   "execution_count": null,
   "metadata": {
    "collapsed": false,
    "jupyter": {
     "outputs_hidden": false
    }
   },
   "outputs": [],
   "source": [
    "TCanvas c1(\"c1\", \"c1\",W+10,0,W-20,H);\n",
    "c1.SetRightMargin(0.047);\n",
    "\n",
    "scale = h.GetMaximum()/h2->GetMaximum();\n",
    "\n",
    "h.SetStats(0);\n",
    "h.SetLineColor(kRed-3);\n",
    "h.SetLineWidth(2);\n",
    "h.SetMarkerStyle(20);\n",
    "h.SetMarkerColor(kBlue);\n",
    "h.SetMarkerSize(0.8);\n",
    "h.Draw(\"LP\");\n",
    "h.GetXaxis()->SetLabelFont(42);\n",
    "h.GetXaxis()->SetLabelSize(0.03);\n",
    "h.GetYaxis()->SetLabelFont(42);\n",
    "\n",
    "h2->Scale(scale);\n",
    "Double_t scale2 = TMath::Sqrt(scale);\n",
    "for (i=0; i<nx; i++)\n",
    "    h2->SetBinError(i+1, scale2*h2->GetBinError(i+1));\n",
    "h2->Draw(\"E SAME\");\n",
    "h2->SetMarkerStyle(20);\n",
    "h2->SetMarkerSize(0.8);\n",
    "\n",
    "TLegend leg(0.5,0.67,0.92,0.8,nullptr,\"NDC\");\n",
    "leg.SetTextFont(42);\n",
    "leg.SetTextSize(0.025);\n",
    "leg.AddEntry(&h,\"Real countries surfaces from Wikipedia (in km^{2})\",\"lp\");\n",
    "leg.AddEntry(h2,\"Countries surfaces from TH2Poly (with errors)\",\"lp\");\n",
    "leg.Draw();\n",
    "\n",
    "c1.Draw();"
   ]
  },
  {
   "cell_type": "markdown",
   "metadata": {},
   "source": [
    "Print the surface estimation error."
   ]
  },
  {
   "cell_type": "code",
   "execution_count": null,
   "metadata": {
    "collapsed": false,
    "jupyter": {
     "outputs_hidden": false
    }
   },
   "outputs": [],
   "source": [
    "auto wikiSum = h.Integral();\n",
    "auto polySum = h2->Integral();\n",
    "auto error = TMath::Abs(wikiSum-polySum)/wikiSum;\n",
    "cout << \"THPoly Europe surface estimation error wrt wikipedia = \" << 100*error << \" % when using \" << npoints << \" points\" << endl;"
   ]
  }
 ],
 "metadata": {
  "kernelspec": {
   "display_name": "Python 3 (ipykernel)",
   "language": "python",
   "name": "python3"
  },
  "language_info": {
   "codemirror_mode": {
    "name": "ipython",
    "version": 3
   },
   "file_extension": ".py",
   "mimetype": "text/x-python",
   "name": "python",
   "nbconvert_exporter": "python",
   "pygments_lexer": "ipython3",
   "version": "3.12.6"
  }
 },
 "nbformat": 4,
 "nbformat_minor": 4
}
