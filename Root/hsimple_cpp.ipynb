{
 "cells": [
  {
   "cell_type": "markdown",
   "metadata": {},
   "source": [
    "# hSimple\n",
    "\n",
    "This program creates:\n",
    "* A one-dimensional histogram\n",
    "* A two-dimensional histogram\n",
    "* A profile histogram\n",
    "* A memory-resident ntuple\n",
    "\n",
    "These objects are filled with some random numbers and saved on a file called `hsimple.root` in `$PWD`.\n",
    "\n",
    "---"
   ]
  },
  {
   "cell_type": "markdown",
   "metadata": {
    "editable": true,
    "slideshow": {
     "slide_type": ""
    },
    "tags": []
   },
   "source": [
    "Create a new machine-independent ROOT binary file. Note that this file may contain any kind of ROOT objects, histograms, pictures, graphics objects, detector geometries, tracks, events, etc.\n",
    "\n",
    "This file will become the current directory."
   ]
  },
  {
   "cell_type": "code",
   "execution_count": null,
   "metadata": {
    "jupyter": {
     "outputs_hidden": false
    }
   },
   "outputs": [],
   "source": [
    "string filename = \"hsimple.root\";\n",
    "TFile hfile(filename,\"RECREATE\",\"Demo ROOT file with histograms\");"
   ]
  },
  {
   "cell_type": "markdown",
   "metadata": {},
   "source": [
    "Create two histograms, a profile histogram and an ntuple."
   ]
  },
  {
   "cell_type": "code",
   "execution_count": null,
   "metadata": {
    "jupyter": {
     "outputs_hidden": false
    }
   },
   "outputs": [],
   "source": [
    "TH1F hpx(\"hpx\",\"This is the px distribution\",64,-4,4);\n",
    "TH2F hpxpy(\"hpxpy\",\"py vs px\",64,-4,4,64,-4,4);\n",
    "TProfile hprof(\"hprof\",\"Profile of pz versus px\",64,-4,4,0,20);\n",
    "TNtuple ntuple(\"ntuple\",\"Demo ntuple\",\"px:py:pz:random:i\");"
   ]
  },
  {
   "cell_type": "markdown",
   "metadata": {},
   "source": [
    "Create a new canvas."
   ]
  },
  {
   "cell_type": "code",
   "execution_count": null,
   "metadata": {
    "jupyter": {
     "outputs_hidden": false
    }
   },
   "outputs": [],
   "source": [
    "TCanvas c1(\"c1\",\"Filling Example\",800,600);"
   ]
  },
  {
   "cell_type": "markdown",
   "metadata": {},
   "source": [
    "Fill histograms randomly and benchmark it."
   ]
  },
  {
   "cell_type": "code",
   "execution_count": null,
   "metadata": {
    "jupyter": {
     "outputs_hidden": false
    }
   },
   "outputs": [],
   "source": [
    "auto benchmarkName = \"hsimple\";\n",
    "gBenchmark->Start(benchmarkName);\n",
    "\n",
    "TRandom3 r;\n",
    "Float_t px, py, pz;\n",
    "for (Int_t i = 0; i < 50000; i++) {\n",
    "    r.Rannor(px,py);\n",
    "    pz = px*px + py*py;\n",
    "    auto rnd = r.Rndm();\n",
    "    hpx.Fill(px);\n",
    "    hpxpy.Fill(px,py);\n",
    "    hprof.Fill(px,pz);\n",
    "    ntuple.Fill(px,py,pz,rnd,i);\n",
    "}\n",
    "\n",
    "gBenchmark->Show(benchmarkName);"
   ]
  },
  {
   "cell_type": "markdown",
   "metadata": {},
   "source": [
    "Save all objects in the `hsimple.root` file."
   ]
  },
  {
   "cell_type": "code",
   "execution_count": null,
   "metadata": {
    "jupyter": {
     "outputs_hidden": false
    }
   },
   "outputs": [],
   "source": [
    "hpx.SetFillColor(0);\n",
    "hfile.Write();"
   ]
  },
  {
   "cell_type": "markdown",
   "metadata": {},
   "source": [
    "Draw the histogram and the canvas."
   ]
  },
  {
   "cell_type": "code",
   "execution_count": null,
   "metadata": {
    "jupyter": {
     "outputs_hidden": false
    }
   },
   "outputs": [],
   "source": [
    "hpx.SetFillColor(kBlue-10);\n",
    "hpx.SetLineColor(kBlue);\n",
    "hpx.Draw();\n",
    "c1.Draw();"
   ]
  },
  {
   "cell_type": "markdown",
   "metadata": {},
   "source": [
    "Close the file and list its contents."
   ]
  },
  {
   "cell_type": "code",
   "execution_count": null,
   "metadata": {},
   "outputs": [],
   "source": [
    "hfile.Close();"
   ]
  },
  {
   "cell_type": "code",
   "execution_count": null,
   "metadata": {
    "jupyter": {
     "outputs_hidden": false
    }
   },
   "outputs": [],
   "source": [
    ".! rootls -1 hsimple.root"
   ]
  }
 ],
 "metadata": {
  "kernelspec": {
   "display_name": "ROOT C++",
   "language": "c++",
   "name": "root"
  },
  "language_info": {
   "codemirror_mode": {
    "name": "ipython",
    "version": 3
   },
   "file_extension": ".py",
   "mimetype": "text/x-python",
   "name": "python",
   "nbconvert_exporter": "python",
   "pygments_lexer": "ipython3",
   "version": "3.10.12"
  }
 },
 "nbformat": 4,
 "nbformat_minor": 4
}
