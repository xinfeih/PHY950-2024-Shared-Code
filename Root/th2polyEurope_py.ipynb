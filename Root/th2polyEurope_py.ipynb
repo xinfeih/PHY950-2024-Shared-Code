{
 "cells": [
  {
   "cell_type": "markdown",
   "metadata": {},
   "source": [
    "# TH2 Poly Europe\n",
    "This notebook illustrates how to create a histogram with polygonal bins (`TH2Poly`), fill it and draw it. The initial data are stored in `TMultiGraphs` and they represent the surface of some european countries.\n",
    "\n",
    "The histogram filling is done according to a *Mercator* projection, therefore the bin content should be proportional to the real surface of the countries.\n",
    "\n",
    "The initial data have been downloaded from http://www.maproom.psu.edu/dcw/. This database was developed in 1991/1992 and national boundaries reflect political reality as of that time.\n",
    "\n",
    "The program is shooting `npoints` randomly over the Europe area. The number of points inside the countries should be proportional to the country surface. The estimated surface is compared to the surfaces taken from wikipedia.\n",
    "\n",
    "---"
   ]
  },
  {
   "cell_type": "code",
   "execution_count": 1,
   "metadata": {
    "collapsed": false,
    "jupyter": {
     "outputs_hidden": false
    }
   },
   "outputs": [],
   "source": [
    "import ROOT"
   ]
  },
  {
   "cell_type": "markdown",
   "metadata": {},
   "source": [
    "Variables' initialization:\n",
    "- Number of points.\n",
    "- Latitude and longitude."
   ]
  },
  {
   "cell_type": "code",
   "execution_count": 2,
   "metadata": {},
   "outputs": [],
   "source": [
    "npoints = 100000\n",
    "\n",
    "lon1 = -25.\n",
    "lon2 =  35.\n",
    "lat1 =  34.\n",
    "lat2 =  72.\n",
    "R    = (lat2-lat1)/(lon2-lon1)"
   ]
  },
  {
   "cell_type": "markdown",
   "metadata": {},
   "source": [
    "Initialize global style."
   ]
  },
  {
   "cell_type": "code",
   "execution_count": 3,
   "metadata": {
    "collapsed": false,
    "jupyter": {
     "outputs_hidden": false
    }
   },
   "outputs": [],
   "source": [
    "ROOT.gStyle.SetStatX(0.28)\n",
    "ROOT.gStyle.SetStatY(0.45)\n",
    "ROOT.gStyle.SetStatW(0.15)"
   ]
  },
  {
   "cell_type": "markdown",
   "metadata": {},
   "source": [
    "Create canvas used to draw `TH2Poly` (the map)."
   ]
  },
  {
   "cell_type": "code",
   "execution_count": 4,
   "metadata": {
    "collapsed": false,
    "jupyter": {
     "outputs_hidden": false
    }
   },
   "outputs": [],
   "source": [
    "W = 800\n",
    "H = int(R*800)\n",
    "\n",
    "ce = ROOT.TCanvas(\"ce\",\"ce\",0,0,W,H)\n",
    "ce.SetGridx()\n",
    "ce.SetGridy()"
   ]
  },
  {
   "cell_type": "markdown",
   "metadata": {},
   "source": [
    "Real surfaces taken from Wikipedia.\n",
    "See http://en.wikipedia.org/wiki/Area_and_population_of_European_countries"
   ]
  },
  {
   "cell_type": "code",
   "execution_count": 5,
   "metadata": {},
   "outputs": [],
   "source": [
    "countries = [\n",
    "    \"france\",     \"spain\",  \"sweden\",  \"germany\",       \"finland\",\n",
    "    \"norway\",     \"poland\", \"italy\",   \"yugoslavia\",    \"united_kingdom\",\n",
    "    \"romania\",    \"belarus\",\"greece\",  \"czechoslovakia\",\"bulgaria\",\n",
    "    \"iceland\",    \"hungary\",\"portugal\",\"austria\",       \"ireland\",\n",
    "    \"lithuania\",  \"latvia\", \"estonia\", \"denmark\",       \"netherlands\",\n",
    "    \"switzerland\",\"moldova\",\"belgium\", \"albania\",       \"cyprus\",\n",
    "    \"luxembourg\", \"andorra\",\"malta\",   \"liechtenstein\", \"san_marino\",\n",
    "    \"monaco\"\n",
    "]\n",
    "surfaces = [\n",
    "    547030,     505580,   449964,   357021,     338145,\n",
    "    324220,     312685,   301230,   255438,     244820,\n",
    "    237500,     207600,   131940,   127711,     110910,\n",
    "    103000,     93030,    89242,    83870,      70280,\n",
    "    65200,      64589,    45226,    43094,      41526,\n",
    "    41290,      33843,    30528,    28748,      9250,\n",
    "    2586,       468,      316,      160,        61,\n",
    "    2\n",
    "]\n",
    "nx = len(countries)"
   ]
  },
  {
   "cell_type": "markdown",
   "metadata": {},
   "source": [
    "Create histogram with surfaces of countries."
   ]
  },
  {
   "cell_type": "code",
   "execution_count": 6,
   "metadata": {},
   "outputs": [],
   "source": [
    "h = ROOT.TH1F(\"h\",\"Countries surfaces (in km^{2})\",3,0,3)\n",
    "for country, surface in zip(countries,surfaces):\n",
    "    h.Fill(country, surface)\n",
    "h.LabelsDeflate()"
   ]
  },
  {
   "cell_type": "markdown",
   "metadata": {},
   "source": [
    "Get remote file."
   ]
  },
  {
   "cell_type": "code",
   "execution_count": 8,
   "metadata": {
    "collapsed": false,
    "jupyter": {
     "outputs_hidden": false
    }
   },
   "outputs": [
    {
     "name": "stderr",
     "output_type": "stream",
     "text": [
      "[TFile::Cp] Total 2.16 MB\t|====================| 100.00 % [1.5 MB/s]\n",
      "Info in <TFile::OpenFromCache>: using local cache copy of http://root.cern.ch/files/europe.root [./files/europe.root]\n"
     ]
    }
   ],
   "source": [
    "ROOT.TFile.SetCacheFileDir(\".\")\n",
    "fileUrl = \"http://root.cern.ch/files/europe.root\"\n",
    "f = ROOT.TFile.Open(fileUrl,\"cacheread\")\n",
    "if not f:\n",
    "    print(\"Error: Cannot access remote file\", fileUrl)"
   ]
  },
  {
   "cell_type": "markdown",
   "metadata": {},
   "source": [
    "Create the map and fill it. See the documentation of [TKey](https://root.cern.ch/root/htmldoc/TKey.html) for more information about this loop."
   ]
  },
  {
   "cell_type": "code",
   "execution_count": 9,
   "metadata": {
    "collapsed": false,
    "jupyter": {
     "outputs_hidden": false
    }
   },
   "outputs": [],
   "source": [
    "p = ROOT.TH2Poly(\"Europe\",\"Europe (bin contents are normalized to the surfaces in km^{2})\",lon1,lon2,lat1,lat2)\n",
    "p.GetXaxis().SetNdivisions(520)\n",
    "p.GetXaxis().SetTitle(\"longitude\")\n",
    "p.GetYaxis().SetTitle(\"latitude\")\n",
    "p.SetContour(100)\n",
    "\n",
    "listOfKeys = ROOT.gDirectory.GetListOfKeys()\n",
    "for obj in (obj for obj in map(lambda k: k.ReadObj(), listOfKeys) if obj.InheritsFrom(\"TMultiGraph\")):\n",
    "    p.AddBin(obj)"
   ]
  },
  {
   "cell_type": "markdown",
   "metadata": {},
   "source": [
    "Do the partitioning of the map."
   ]
  },
  {
   "cell_type": "code",
   "execution_count": 10,
   "metadata": {
    "collapsed": false,
    "jupyter": {
     "outputs_hidden": false
    }
   },
   "outputs": [
    {
     "name": "stdout",
     "output_type": "stream",
     "text": [
      "Partitioning: Real Time =   0.59 seconds Cpu Time =   0.59 seconds\n"
     ]
    }
   ],
   "source": [
    "partBenchmarkName = \"Partitioning\"\n",
    "ROOT.gBenchmark.Start(partBenchmarkName)\n",
    "p.ChangePartition(100,100)\n",
    "ROOT.gBenchmark.Show(partBenchmarkName)"
   ]
  },
  {
   "cell_type": "markdown",
   "metadata": {},
   "source": [
    "Fill `TH2Poly` according to a Mercator projection."
   ]
  },
  {
   "cell_type": "code",
   "execution_count": 12,
   "metadata": {
    "collapsed": false,
    "jupyter": {
     "outputs_hidden": false
    }
   },
   "outputs": [
    {
     "name": "stdout",
     "output_type": "stream",
     "text": [
      "Filling   : Real Time =  20.10 seconds Cpu Time =   0.80 seconds\n"
     ]
    }
   ],
   "source": [
    "pi    = ROOT.TMath.Pi()\n",
    "pi4   = pi/4.\n",
    "alpha = pi/360.\n",
    "\n",
    "r = ROOT.TRandom3()\n",
    "fillBenchmarkName = \"Filling\"\n",
    "ROOT.gBenchmark.Start(fillBenchmarkName)\n",
    "\n",
    "for i in range(npoints):\n",
    "    longitude = r.Uniform(lon1,lon2)\n",
    "    latitude  = r.Uniform(lat1,lat2)\n",
    "    x         = longitude\n",
    "    y         = 38*ROOT.TMath.Log(ROOT.TMath.Tan(pi4+alpha*latitude))\n",
    "    p.Fill(x,y)\n",
    "\n",
    "ROOT.gBenchmark.Show(fillBenchmarkName)\n",
    "\n",
    "nbins = p.GetNumberOfBins()\n",
    "maximum = p.GetMaximum()"
   ]
  },
  {
   "cell_type": "markdown",
   "metadata": {},
   "source": [
    "Fill a histogram with the surfaces computed from `TH2Poly`."
   ]
  },
  {
   "cell_type": "code",
   "execution_count": 13,
   "metadata": {},
   "outputs": [],
   "source": [
    "h2 = h.Clone(\"h2\")\n",
    "h2.Reset()\n",
    "for j in range(nx):\n",
    "    for i in range(nbins):\n",
    "        if countries[j] in p.GetBinName(i+1):\n",
    "            h2.Fill(countries[j],p.GetBinContent(i+1))\n",
    "            h2.SetBinError(j, p.GetBinError(i+1))"
   ]
  },
  {
   "cell_type": "markdown",
   "metadata": {},
   "source": [
    "Normalize the `TH2Poly` bin contents to the real surfaces."
   ]
  },
  {
   "cell_type": "code",
   "execution_count": 15,
   "metadata": {},
   "outputs": [],
   "source": [
    "scale = surfaces[0]/maximum\n",
    "for i in range(nbins):\n",
    "    p.SetBinContent(i+1, scale*p.GetBinContent(i+1))"
   ]
  },
  {
   "cell_type": "markdown",
   "metadata": {},
   "source": [
    "Draw the canvas with the map."
   ]
  },
  {
   "cell_type": "code",
   "execution_count": 16,
   "metadata": {
    "collapsed": false,
    "jupyter": {
     "outputs_hidden": false
    }
   },
   "outputs": [
    {
     "data": {
      "image/png": "[encoded data removed]",
      "text/plain": [
       "<IPython.core.display.Image object>"
      ]
     },
     "metadata": {},
     "output_type": "display_data"
    }
   ],
   "source": [
    "ROOT.gStyle.SetOptStat(1111)\n",
    "\n",
    "p.Draw(\"COLZ\")\n",
    "ce.Draw()"
   ]
  },
  {
   "cell_type": "markdown",
   "metadata": {},
   "source": [
    "Set up another canvas for `h` and `h2` and draw it."
   ]
  },
  {
   "cell_type": "code",
   "execution_count": 18,
   "metadata": {
    "collapsed": false,
    "jupyter": {
     "outputs_hidden": false
    }
   },
   "outputs": [
    {
     "name": "stderr",
     "output_type": "stream",
     "text": [
      "Warning in <TCanvas::Constructor>: Deleting canvas with same name: c1\n"
     ]
    },
    {
     "data": {
      "image/png": "[encoded data removed]",
      "text/plain": [
       "<IPython.core.display.Image object>"
      ]
     },
     "metadata": {},
     "output_type": "display_data"
    }
   ],
   "source": [
    "c1 = ROOT.TCanvas(\"c2\", \"c2\",W+10,0,W-20,H)\n",
    "c1.SetRightMargin(0.047)\n",
    "\n",
    "scale = h.GetMaximum()/h2.GetMaximum()\n",
    "\n",
    "h.SetStats(0)\n",
    "h.SetLineColor(ROOT.kRed-3)\n",
    "h.SetLineWidth(2)\n",
    "h.SetMarkerStyle(20)\n",
    "h.SetMarkerColor(ROOT.kBlue)\n",
    "h.SetMarkerSize(0.8)\n",
    "h.Draw(\"LP\")\n",
    "h.GetXaxis().SetLabelFont(42)\n",
    "h.GetXaxis().SetLabelSize(0.03)\n",
    "h.GetYaxis().SetLabelFont(42)\n",
    "\n",
    "h2.Scale(scale)\n",
    "scale2 = ROOT.TMath.Sqrt(scale)\n",
    "for i in range(nx):\n",
    "    h2.SetBinError(i+1, scale2*h2.GetBinError(i+1))\n",
    "h2.Draw(\"E SAME\")\n",
    "h2.SetMarkerStyle(20)\n",
    "h2.SetMarkerSize(0.8)\n",
    "\n",
    "leg = ROOT.TLegend(0.5,0.67,0.92,0.8,\"\",\"NDC\")\n",
    "leg.SetTextFont(42)\n",
    "leg.SetTextSize(0.025)\n",
    "leg.AddEntry(h,\"Real countries surfaces from Wikipedia (in km^{2})\",\"lp\")\n",
    "leg.AddEntry(h2,\"Countries surfaces from TH2Poly (with errors)\",\"lp\")\n",
    "leg.Draw()\n",
    "\n",
    "c1.Draw()"
   ]
  },
  {
   "cell_type": "markdown",
   "metadata": {},
   "source": [
    "Print the surface estimation error."
   ]
  },
  {
   "cell_type": "code",
   "execution_count": 20,
   "metadata": {
    "collapsed": false,
    "jupyter": {
     "outputs_hidden": false
    }
   },
   "outputs": [
    {
     "name": "stdout",
     "output_type": "stream",
     "text": [
      "THPoly Europe surface estimation error wrt wikipedia = 1.6767843107700346 % when using 100000 points\n"
     ]
    }
   ],
   "source": [
    "wikiSum = h.Integral()\n",
    "polySum = h2.Integral()\n",
    "error = ROOT.TMath.Abs(wikiSum-polySum)/wikiSum\n",
    "print(\"THPoly Europe surface estimation error wrt wikipedia =\", 100*error, \"% when using\", npoints, \"points\")"
   ]
  },
  {
   "cell_type": "code",
   "execution_count": null,
   "metadata": {},
   "outputs": [],
   "source": []
  }
 ],
 "metadata": {
  "kernelspec": {
   "display_name": "Python 3 (ipykernel)",
   "language": "python",
   "name": "python3"
  },
  "language_info": {
   "codemirror_mode": {
    "name": "ipython",
    "version": 3
   },
   "file_extension": ".py",
   "mimetype": "text/x-python",
   "name": "python",
   "nbconvert_exporter": "python",
   "pygments_lexer": "ipython3",
   "version": "3.12.6"
  }
 },
 "nbformat": 4,
 "nbformat_minor": 4
}
