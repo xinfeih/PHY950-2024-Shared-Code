{
 "cells": [
  {
   "cell_type": "code",
   "execution_count": null,
   "id": "1db2fab5-f986-4933-b058-95e7bcd45c17",
   "metadata": {},
   "outputs": [],
   "source": [
    "# Root for this notebook!\n",
    "import ROOT"
   ]
  },
  {
   "cell_type": "markdown",
   "id": "0dfe9afe-7c86-450e-bce3-ba826a013e75",
   "metadata": {},
   "source": [
    "# The Tranformation Method\n",
    "\n",
    "In this notebook, we'll use the transformation method to morph a PDF that is uniform in [0,1) to a semi-arbitrary form.\n",
    "We'll try a few different functions to get the hang of things."
   ]
  },
  {
   "cell_type": "markdown",
   "id": "aaf99896-f47f-421a-9fe4-fe4426056b48",
   "metadata": {},
   "source": [
    "## Function: $f(x) = x$\n",
    "\n",
    "Here we will transform to a linear function with slope = 1.  Assume that $g(r)$ is a uniform PDF over [0,1).\n",
    "\n",
    "We need to have $\\int_0^r g(r^\\prime)dr^\\prime = F(x) = C\\int_0^x f(x^\\prime) dx^\\prime$.\n",
    "\n",
    "This gives us $r = C{x^2 \\over 2}$.  Clearly C=2, given that the total integral over [0,1) must be 1.\n",
    "\n",
    "Thus $F(x) = x^2 = r$ and $x(r) = \\sqrt{r}$."
   ]
  },
  {
   "cell_type": "code",
   "execution_count": null,
   "id": "bce2adb2-9c72-4f6d-b4c6-2e908416bad5",
   "metadata": {},
   "outputs": [],
   "source": [
    "# Create a histogram and a random number generator\n",
    "linHist = ROOT.TH1F(\"Linear Function\",\"f(x) = x\",100,0,1)\n",
    "rng = ROOT.TRandom3(162) # arbitrary seed 162\n",
    "\n",
    "# 1E6 random values\n",
    "for i in range(1000000):\n",
    "    r = rng.Uniform()\n",
    "    linHist.Fill(ROOT.TMath.Sqrt(r))\n",
    "\n",
    "# Normalize to unit probability\n",
    "linHist.Scale(50/linHist.Integral())\n",
    "\n",
    "# Let's draw the required function on top of the histogram\n",
    "f1 = ROOT.TF1(\"f1\",\"x\",0,1)\n",
    "f1.SetLineColor(2) # the line will be red!\n",
    "\n",
    "# Draw the histograms\n",
    "c1 = ROOT.TCanvas(\"Canvas 1\", \"Canvas 1\")\n",
    "linHist.Draw()\n",
    "f1.Draw(\"same\")\n",
    "c1.Draw()"
   ]
  },
  {
   "cell_type": "markdown",
   "id": "93be8110-03c5-4c3e-85bc-f131700f89df",
   "metadata": {},
   "source": [
    "## Function: $f(x) = 1/\\sqrt{x}$\n",
    "\n",
    "Now let's go the other direction in polynomial exponents!\n",
    "\n",
    "Assume that $g(r)$ is a uniform PDF over [0,1).\n",
    "\n",
    "We need to have $\\int_0^r g(r^\\prime)dr^\\prime = F(x) = C\\int_0^x f(x^\\prime) dx^\\prime$.\n",
    "\n",
    "This gives us $r = C(2\\sqrt{x})$, giving $C = 1/2$.\n",
    "\n",
    "Thus $F(x) = \\sqrt{x} = r$ and $x(r) = r^2$."
   ]
  },
  {
   "cell_type": "code",
   "execution_count": null,
   "id": "e5f50ac0-1a04-4dd0-bb91-1eea4d619c8f",
   "metadata": {},
   "outputs": [],
   "source": [
    "# Create a histogram and a random number generator\n",
    "invHist = ROOT.TH1F(\"Linear Function\",\"f(x) = 1/#sqrt{x}\",100,0,1)\n",
    "\n",
    "# 1E6 random values\n",
    "for i in range(1000000):\n",
    "    r = rng.Uniform()\n",
    "    invHist.Fill(r*r)\n",
    "\n",
    "# Normalize to unit probability\n",
    "invHist.Scale(200/invHist.Integral())\n",
    "\n",
    "# Let's draw the required function on top of the histogram\n",
    "f2 = ROOT.TF1(\"f2\",\"1/sqrt(x)\",1E-9,1)\n",
    "f2.SetLineColor(2) # the line will be red!\n",
    "\n",
    "# Draw the histograms\n",
    "c2 = ROOT.TCanvas(\"Canvas 2\", \"Canvas 2\")\n",
    "invHist.Draw()\n",
    "f1.Draw(\"same\")\n",
    "c2.Draw()"
   ]
  },
  {
   "cell_type": "markdown",
   "id": "a8abbca8-6842-44a2-995b-0b4f699e3fc2",
   "metadata": {},
   "source": [
    "## Function: $f(x) = {\\exp(-x^2/2) \\over \\sqrt{2\\pi}}$\n",
    "\n",
    "And now, for the last one, let's transform to a Standard Normal distribution.  That is, a Gaussian with mean = 0 and standard deviation = 1.\n",
    "\n",
    "I'm sure that everyone already knows that $\\int_{-\\infty}^{+\\infty} {\\exp{-x^2/2} \\over \\sqrt{2\\pi}} dx = 1$.  If not, take a moment to convince yourself of that!\n",
    "\n",
    "Assume that $g(r)$ is a uniform PDF over [0,1).\n",
    "\n",
    "We need to have $\\int_0^r g(r^\\prime)dr^\\prime = F(x) = C\\int_0^x f(x^\\prime) dx^\\prime$.\n",
    "\n",
    "This gives us $F(x) = 1/2 (\\Erf(x/\\sqrt{2})+1)$, where $\\Erf$ is the error function you've met already once and $\\Erf(-\\infty)=-1$.\n",
    "\n",
    "Thus we have $x(r) = \\sqrt{2}\\ErfInverse(2r-1) $"
   ]
  },
  {
   "cell_type": "code",
   "execution_count": null,
   "id": "2896786b-b0dc-46c3-84f1-1a066082bdb0",
   "metadata": {},
   "outputs": [],
   "source": [
    "# Create a histogram and a random number generator\n",
    "gausHist = ROOT.TH1F(\"Standard Normal Function\",\"f(x) = exp(-x^{2})\",100,-5,5)\n",
    "\n",
    "# 1E6 random values\n",
    "for i in range(1000000):\n",
    "    r = rng.Uniform()\n",
    "    gausHist.Fill(ROOT.TMath.Sqrt(2)*ROOT.TMath.ErfInverse(2*r-1))\n",
    "\n",
    "# Normalize to unit probability\n",
    "gausHist.Scale(1/gausHist.Integral())\n",
    "\n",
    "\n",
    "# Draw the histograms\n",
    "c3 = ROOT.TCanvas(\"Canvas 3\", \"Canvas 3\")\n",
    "gausHist.Draw()\n",
    "gausHist.Fit('gaus')\n",
    "c3.Draw()"
   ]
  },
  {
   "cell_type": "code",
   "execution_count": null,
   "id": "1979e8e9-b5e1-4fd4-9fe6-f69c6c6a4a86",
   "metadata": {},
   "outputs": [],
   "source": []
  }
 ],
 "metadata": {
  "kernelspec": {
   "display_name": "Python 3 (ipykernel)",
   "language": "python",
   "name": "python3"
  },
  "language_info": {
   "codemirror_mode": {
    "name": "ipython",
    "version": 3
   },
   "file_extension": ".py",
   "mimetype": "text/x-python",
   "name": "python",
   "nbconvert_exporter": "python",
   "pygments_lexer": "ipython3",
   "version": "3.12.6"
  }
 },
 "nbformat": 4,
 "nbformat_minor": 5
}
