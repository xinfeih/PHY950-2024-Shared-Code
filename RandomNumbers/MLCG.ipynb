{
 "cells": [
  {
   "cell_type": "code",
   "execution_count": null,
   "id": "apart-vertex",
   "metadata": {},
   "outputs": [],
   "source": [
    "# We will work with root on this example\n",
    "import ROOT"
   ]
  },
  {
   "cell_type": "code",
   "execution_count": null,
   "id": "temporal-assumption",
   "metadata": {},
   "outputs": [],
   "source": [
    "# We are going to use the Multiplicative Linear Congruential Generator (MLCG) to\n",
    "# create a sequence of random numbers.\n",
    "# Set up our constants\n",
    "\n",
    "seed = 123456  # This is the initial value\n",
    "mult = 40692   # This is the multiplier\n",
    "mod = 214748   # This is the modulus factor\n",
    "\n",
    "n = seed  # The n values will be the MLCG output\n",
    "r = 0     # The r values will be normalized to the maximum possible value, creating a uniform number in [0,1)\n",
    "i=0       # This is our iteration variable\n",
    "nMC=2000000  # The number of MC iterations to make"
   ]
  },
  {
   "cell_type": "code",
   "execution_count": null,
   "id": "lasting-hospital",
   "metadata": {},
   "outputs": [],
   "source": [
    "# Keep track so we can fill histograms\n",
    "# One can also just directly fill the histos if you wish\n",
    "uniformInt = []\n",
    "uniformFloat = []\n",
    "\n",
    "# proceed until you reach the maximum number of trials\n",
    "while i < nMC:\n",
    "    r = n*1.0/mod  # convert to floating point number\n",
    "    uniformFloat.append(r)    \n",
    "\n",
    "    # calculate next MLCG sequence value\n",
    "    n = (mult * n) % mod\n",
    "    uniformInt.append(n)\n",
    "\n",
    "    # iterate\n",
    "    i = i+1"
   ]
  },
  {
   "cell_type": "code",
   "execution_count": null,
   "id": "entire-prairie",
   "metadata": {},
   "outputs": [],
   "source": [
    "# create some histograms\n",
    "floatHisto = ROOT.TH1F(\"Uniform Float\", \"Floating Point Uniform Random Numbers\",200,-0.05,1.05)\n",
    "intHisto = ROOT.TH1F(\"Uniform Float\", \"Floating Point Uniform Random Numbers\",200,-mod/20,mod+mod/20)\n",
    "\n",
    "# fill those histograms!\n",
    "for i in range(len(uniformInt)):\n",
    "    floatHisto.Fill(uniformFloat[i])\n",
    "    intHisto.Fill(uniformInt[i])\n"
   ]
  },
  {
   "cell_type": "code",
   "execution_count": null,
   "id": "0d3df2d1-d1ad-41b8-bae7-e68fdac8790a",
   "metadata": {},
   "outputs": [],
   "source": [
    "# Draw the histograms\n",
    "c1 = ROOT.TCanvas(\"Canvas 1\", \"Canvas 1\")\n",
    "floatHisto.Draw()\n",
    "c1.Draw()"
   ]
  },
  {
   "cell_type": "code",
   "execution_count": null,
   "id": "00b38fd8-db07-433c-ab7f-62353042eef8",
   "metadata": {},
   "outputs": [],
   "source": [
    "# Draw the histograms\n",
    "c2 = ROOT.TCanvas(\"Canvas 2\", \"Canvas 2\")\n",
    "intHisto.Draw()\n",
    "c2.Draw()"
   ]
  },
  {
   "cell_type": "code",
   "execution_count": null,
   "id": "3c285c3e-4007-4afc-9cdf-f546acfbb854",
   "metadata": {},
   "outputs": [],
   "source": []
  }
 ],
 "metadata": {
  "kernelspec": {
   "display_name": "Python 3 (ipykernel)",
   "language": "python",
   "name": "python3"
  },
  "language_info": {
   "codemirror_mode": {
    "name": "ipython",
    "version": 3
   },
   "file_extension": ".py",
   "mimetype": "text/x-python",
   "name": "python",
   "nbconvert_exporter": "python",
   "pygments_lexer": "ipython3",
   "version": "3.12.6"
  }
 },
 "nbformat": 4,
 "nbformat_minor": 5
}
